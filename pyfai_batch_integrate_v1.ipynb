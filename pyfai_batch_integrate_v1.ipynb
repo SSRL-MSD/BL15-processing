{
 "cells": [
  {
   "attachments": {},
   "cell_type": "markdown",
   "metadata": {},
   "source": [
    "# SSRL BL1-5 batch integration"
   ]
  },
  {
   "attachments": {},
   "cell_type": "markdown",
   "metadata": {},
   "source": [
    "A notebook for data reduction from BL1-5 raw data using PyFAI.\n",
    "\n",
    "Installation instructions for PyFAI [here](https://pyfai.readthedocs.io/en/master/operations/index.html#detailed-installation-procedure). Install in a virtual environment or a conda environment.\n",
    "\n",
    "PyFAI also has a GUI mode that can be run from the terminal (`> pyFAI-calib2`), which is useful for preparing calibrations and masks."
   ]
  },
  {
   "cell_type": "code",
   "execution_count": 44,
   "metadata": {},
   "outputs": [
    {
     "name": "stdout",
     "output_type": "stream",
     "text": [
      "PyFAI version 0.21.3\n"
     ]
    }
   ],
   "source": [
    "# Make the necessary imports\n",
    "import pyFAI\n",
    "import pyFAI.test.utilstest\n",
    "import fabio\n",
    "from pyFAI.gui import jupyter\n",
    "from pyFAI.gui.jupyter.calib import Calibration\n",
    "\n",
    "import numpy as np\n",
    "import pandas as pd\n",
    "import matplotlib.pyplot as plt\n",
    "from matplotlib.pyplot import subplots\n",
    "import tqdm\n",
    "\n",
    "import os\n",
    "import glob\n",
    "import shutil\n",
    "import re\n",
    "\n",
    "print(f\"PyFAI version {pyFAI.version}\")"
   ]
  },
  {
   "attachments": {},
   "cell_type": "markdown",
   "metadata": {},
   "source": [
    "Set the known parameters for the experiment. Detectors and calibrants are stored in python objects. PyFAI has a number of detectors built in such as the 1M and 100k used at Bl1-5."
   ]
  },
  {
   "cell_type": "code",
   "execution_count": 45,
   "metadata": {},
   "outputs": [],
   "source": [
    "# Set wavelength in meters\n",
    "wavelength = 0.826565e-10 # Equivalent to 15 keV\n",
    "\n",
    "# Create detector and calibrant objects for SAXS\n",
    "pilatus1M = pyFAI.detector_factory(\"Pilatus1M\")\n",
    "AgBh = pyFAI.calibrant.CALIBRANT_FACTORY(\"AgBh\")\n",
    "AgBh.wavelength = wavelength\n",
    "\n",
    "# Create detector and calibrant objects for WAXS\n",
    "pilatus100k = pyFAI.detector_factory(\"Pilatus100k\")\n",
    "LaB6 = pyFAI.calibrant.CALIBRANT_FACTORY(\"LaB6\")\n",
    "LaB6.wavelength = wavelength\n",
    "\n",
    "# Additional calibrant to use aluminum windows as calibrant\n",
    "Al_cal = pyFAI.calibrant.CALIBRANT_FACTORY(\"Al\")\n",
    "Al_cal.wavelength = wavelength\n",
    "\n",
    "# saxs_path = \"December92022/AgBe/agbe30_120922-125943.raw\"\n",
    "# waxs_path = \"December82022/M8__LaB6_20221208_T20.0_ctr0_dx0.000000_dy0.00/WAXS/b_tassone_M8__LaB6_20221208_T20.0_ctr0_dx0.000000_dy0.00_scan1_0000.raw\"\n",
    "\n",
    "# # load the file\n",
    "# saxs = np.fromfile(saxs_path, dtype=np.int32).reshape(1043, 981)\n",
    "# waxs = np.fromfile(waxs_path, dtype=np.int32).reshape(195, 487)"
   ]
  },
  {
   "attachments": {},
   "cell_type": "markdown",
   "metadata": {},
   "source": [
    "Load a mask file for the SAXS detector.\n",
    "\n",
    "The mask can be prepared manually and saved using the GUI.\n",
    "\n",
    "(run `> pyFAI-calib2` from the terminal)"
   ]
  },
  {
   "cell_type": "code",
   "execution_count": 46,
   "metadata": {},
   "outputs": [
    {
     "data": {
      "text/plain": [
       "<AxesSubplot: >"
      ]
     },
     "execution_count": 46,
     "metadata": {},
     "output_type": "execute_result"
    },
    {
     "data": {
      "image/png": "[encoded data removed]",
      "text/plain": [
       "<Figure size 640x480 with 1 Axes>"
      ]
     },
     "metadata": {},
     "output_type": "display_data"
    }
   ],
   "source": [
    "# Load a *.edf file as a pyfai mask\n",
    "mask = \"/Users/yuewu/Desktop/8091E/BL15_1M_gcarbon_mask_3.edf\"\n",
    "mask = fabio.open(mask).data\n",
    "jupyter.display(mask) # display the mask"
   ]
  },
  {
   "attachments": {},
   "cell_type": "markdown",
   "metadata": {},
   "source": [
    "PyFAI uses 'azimuthal integrator' objects which reduce raw scattering frames. Integrator objects are created using a `.poni` file which contains the integration parameters.\n",
    "\n",
    "Calibration files can be prepared and saved as a *.poni file using the GUI by e.g. picking rings on the calibrant frame."
   ]
  },
  {
   "cell_type": "code",
   "execution_count": 47,
   "metadata": {},
   "outputs": [],
   "source": [
    "# Create the integrators for SAXS and WAXS using manually prepared poni files\n",
    "ai_saxs = pyFAI.load(\"AgBh_1M_calib_GUI.poni\")\n",
    "ai_waxs = pyFAI.load(\"m33_Al_20C_outer_rings.poni\")"
   ]
  },
  {
   "attachments": {},
   "cell_type": "markdown",
   "metadata": {},
   "source": [
    "## Integration\n",
    "Now we have imported our calibration information, we can integrate the data.\n",
    "\n",
    "To batch integrate the data, parse the folder structure.\n",
    "\n",
    "Note: For experiment 8091E, detector was moved after LaB6 calibration. Al cell windows are used as a calibrant instead. There are two sets of Al rings arising from the two cell windows. The outer (higher q) set of rings were used to prepare the calibration file.\n",
    "\n",
    "Normalization:\n",
    "* The `integrate1d(... normalization_factor=...)` argument divides output by the provided factor.\n",
    "* (Subtract ion chamber dark)\n",
    "* Normalize for incident flux - spec value `mon`\n",
    "* Normalize by transmission - average spec values `I0+I1`\n",
    "\n",
    "Averaging:\n",
    "* For each condition set, 12 images are taken - 6 WAXS and 6 SAXS. Each at 3 positions with 2 collections.\n",
    "* Visualisation showed SAXS varied a lot over positions, so positions were not averaged.\n",
    "* Plotting script is used to find useable data (some positions lose scattering due to sample movement)\n",
    "\n",
    "This could be broken into functions if needed."
   ]
  },
  {
   "cell_type": "code",
   "execution_count": 25,
   "metadata": {},
   "outputs": [
    {
     "name": "stderr",
     "output_type": "stream",
     "text": [
      "0it [00:00, ?it/s]\n",
      "100%|██████████| 275/275 [00:16<00:00, 16.76it/s]\n",
      "0it [00:00, ?it/s]\n",
      "0it [00:00, ?it/s]\n",
      "0it [00:00, ?it/s]\n",
      "0it [00:00, ?it/s]\n",
      "0it [00:00, ?it/s]\n",
      "0it [00:00, ?it/s]\n",
      "100%|██████████| 104/104 [00:06<00:00, 17.17it/s]\n",
      "0it [00:00, ?it/s]\n",
      "0it [00:00, ?it/s]\n",
      "0it [00:00, ?it/s]\n",
      "0it [00:00, ?it/s]\n",
      "0it [00:00, ?it/s]\n",
      "100%|██████████| 143/143 [00:08<00:00, 16.84it/s]\n",
      "0it [00:00, ?it/s]\n",
      "0it [00:00, ?it/s]\n",
      "0it [00:00, ?it/s]\n",
      "0it [00:00, ?it/s]\n",
      "0it [00:00, ?it/s]\n",
      "100%|██████████| 260/260 [00:15<00:00, 17.04it/s]\n",
      "0it [00:00, ?it/s]\n",
      "0it [00:00, ?it/s]\n",
      "0it [00:00, ?it/s]\n",
      "100%|██████████| 260/260 [00:15<00:00, 16.98it/s]\n",
      "0it [00:00, ?it/s]\n",
      "0it [00:00, ?it/s]\n",
      "0it [00:00, ?it/s]\n",
      "0it [00:00, ?it/s]\n",
      "0it [00:00, ?it/s]\n"
     ]
    }
   ],
   "source": [
    "# Set root folder - \".\" is the parent data folder\n",
    "root = \".\"\n",
    "\n",
    "# Macros contain 'M<number of macro>' in their name, we use this to find the relevant folders\n",
    "# Set a list of macros to integrate based on reading folder/file prefixes\n",
    "macro_list = ['M33', 'M35', 'M36', 'M37', 'M38'] #M34 mislabelled as M33, corrected at later stage\n",
    "\n",
    "# Store reduced files in the 'integrated' folder. If it does not exist, create it. Else delete and create\n",
    "if not os.path.exists('integrated'):\n",
    "    os.makedirs('integrated')\n",
    "else:\n",
    "    shutil.rmtree('integrated')\n",
    "    os.makedirs('integrated')\n",
    "\n",
    "\n",
    "# Find data folders by generating list of subfolders containing a search string\n",
    "# (Here all data folders contain 'December')\n",
    "searchstring = 'December'\n",
    "subfolders = [f.path for f in os.scandir(root) if f.is_dir() if searchstring in f.path]\n",
    "\n",
    "# Some inconsistent prefixes (typo during macro preparation?): either 'b_tassone_' and 'one_'\n",
    "# Create a regex expression that removes '...one_' from filenames\n",
    "regex = re.compile(r'(?<=one_)')\n",
    "\n",
    "# Loop through each macro and perform batch integration\n",
    "for macro in macro_list:\n",
    "    \n",
    "    # Create an output subfolder for each macro\n",
    "    if not os.path.exists(f'integrated/{macro}'):\n",
    "        os.makedirs(f'integrated/{macro}')\n",
    "\n",
    "    # Search for subfolders containing the macro heading\n",
    "    for i in subfolders:\n",
    "        macro_folders = [f.path for f in os.scandir(i) if f.is_dir() if macro in f.path]\n",
    "\n",
    "        # SAXS integration\n",
    "        for j in tqdm.tqdm(macro_folders):\n",
    "            # Read SPEC csv file containing metadata for normalization\n",
    "            for file in glob.glob(os.path.join(j, '*.csv')):\n",
    "                df = pd.read_csv(file)\n",
    "\n",
    "            # Here are the csv column names for reference:\n",
    "            # df[df.columns[3]][0] # i0\n",
    "            # df[df.columns[4]] # i1\n",
    "            # df[df.columns[5]] # mon\n",
    "\n",
    "            # Look through each raw file in the SAXS folder, integrate and normalise\n",
    "            for index, file in enumerate(sorted(glob.glob(os.path.join(j, 'SAXS', '*.raw')))):\n",
    "\n",
    "                # The .raw files are just a list of 32-bit integers so we reshape them\n",
    "                data = np.fromfile(file, dtype=np.int32).reshape(1043, 981)\n",
    "                \n",
    "                # set normalization factors (rescale by 10e6 otherwise values round to 0)\n",
    "                # Incident (mon) takes range 2M-3M\n",
    "                mon_factor = float(df[df.columns[5]][index])/10e6\n",
    "                # Transmission i0/i1 takes range 1M-2M\n",
    "                i_factor = (float(df[df.columns[3]][index])+float(df[df.columns[4]][index]))/10e6\n",
    "\n",
    "                # Generate appropriate filename for saving\n",
    "                # Get filename only from path\n",
    "                file = os.path.basename(file)\n",
    "                # Split filename at first occurence of match to remove '...one_'\n",
    "                file = regex.split(file, 1)[1]\n",
    "\n",
    "                # integrate and save SAXS into macro folders\n",
    "                ai_saxs.integrate1d(\n",
    "                    data, \n",
    "                    1000, \n",
    "                    filename=f\"integrated/{macro}/{file[:-4]}_SAXS.dat\", \n",
    "                    normalization_factor=mon_factor*i_factor,\n",
    "                    mask=mask)\n",
    "\n",
    "            for index, file in enumerate(sorted(glob.glob(os.path.join(j, 'WAXS', '*.raw')))):\n",
    "                data = np.fromfile(file, dtype=np.int32).reshape(195, 487)\n",
    "                file = os.path.basename(file)\n",
    "                file = regex.split(file, 1)[1]\n",
    "\n",
    "                # set normalization factors\n",
    "                # Incident (mon) takes range 2M-3M\n",
    "                mon_factor = float(df[df.columns[5]][index])/10e6\n",
    "\n",
    "                ai_waxs.integrate1d(\n",
    "                    data, \n",
    "                    1000, \n",
    "                    filename=f\"integrated/{macro}/{file[:-4]}_WAXS.dat\",\n",
    "                    normalization_factor=mon_factor)                "
   ]
  },
  {
   "attachments": {},
   "cell_type": "markdown",
   "metadata": {},
   "source": [
    "# Plotting"
   ]
  },
  {
   "attachments": {},
   "cell_type": "markdown",
   "metadata": {},
   "source": [
    "See pyfai_batch_plotting.ipynb for plotting of the integrated files."
   ]
  }
 ],
 "metadata": {
  "kernelspec": {
   "display_name": "Python 3 (ipykernel)",
   "language": "python",
   "name": "python3"
  },
  "language_info": {
   "codemirror_mode": {
    "name": "ipython",
    "version": 3
   },
   "file_extension": ".py",
   "mimetype": "text/x-python",
   "name": "python",
   "nbconvert_exporter": "python",
   "pygments_lexer": "ipython3",
   "version": "3.10.8 (main, Nov 24 2022, 08:09:04) [Clang 14.0.6 ]"
  },
  "vscode": {
   "interpreter": {
    "hash": "afd883d245a1473faace08cf20dc36c15f14bf2de32a0db04523a733156cafb8"
   }
  }
 },
 "nbformat": 4,
 "nbformat_minor": 4
}
